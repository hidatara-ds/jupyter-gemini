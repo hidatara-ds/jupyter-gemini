{
 "cells": [
  {
   "cell_type": "code",
   "execution_count": null,
   "id": "b59f36b6-4192-4b31-9b2d-7d57d47c1e84",
   "metadata": {},
   "outputs": [
    {
     "name": "stdout",
     "output_type": "stream",
     "text": [
      "Chat History:\n",
      "\n"
     ]
    },
    {
     "data": {
      "text/markdown": [
       "**You**: hi gemini aku gilang tolong jelasi ai dan machine learning\n"
      ],
      "text/plain": [
       "<IPython.core.display.Markdown object>"
      ]
     },
     "metadata": {},
     "output_type": "display_data"
    },
    {
     "data": {
      "text/markdown": [
       "**Bot**: **Kecerdasan Buatan (AI)**\n",
       "\n",
       "Kecerdasan Buatan (AI) adalah bidang ilmu komputer yang berfokus pada pengembangan mesin yang mampu melakukan tugas-tugas yang biasanya memerlukan kecerdasan manusia, seperti:\n",
       "\n",
       "* Pemecahan masalah\n",
       "* Pembuatan keputusan\n",
       "* Pembelajaran\n",
       "* Pengenalan pola\n",
       "\n",
       "AI dapat diterapkan pada berbagai bidang, termasuk:\n",
       "\n",
       "* Pengenalan wajah dan suara\n",
       "* Mobil self-driving\n",
       "* Diagnosis medis\n",
       "* Layanan pelanggan\n",
       "* Finansial\n",
       "\n",
       "**Pembelajaran Mesin (ML)**\n",
       "\n",
       "Pembelajaran Mesin (ML) adalah sub-bidang AI yang memungkinkan mesin mempelajari pola dan membuat prediksi berdasarkan data tanpa diprogram secara eksplisit. Mesin ML dapat belajar dari data besar dan meningkatkan kinerjanya seiring waktu.\n",
       "\n",
       "ML digunakan dalam banyak aplikasi, seperti:\n",
       "\n",
       "* Rekomendasi produk\n",
       "* Deteksi penipuan\n",
       "* Prediksi harga saham\n",
       "* Analisis pasar\n",
       "* Perencanaan medis\n",
       "\n",
       "**Perbedaan antara AI dan ML**\n",
       "\n",
       "Sementara AI adalah bidang yang lebih luas, ML adalah bagian integralnya. AI berfokus pada pengembangan mesin yang cerdas, sedangkan ML berfokus pada pembelajaran dan prediksi berdasarkan data.\n",
       "\n",
       "**Contoh AI dan ML**\n",
       "\n",
       "* **AI:** Mobil self-driving, asisten suara seperti Siri dan Alexa\n",
       "* **ML:** Sistem rekomendasi Netflix, deteksi spam di email\n",
       "\n",
       "**Tren dan Masa Depan AI dan ML**\n",
       "\n",
       "AI dan ML terus berkembang pesat, dengan kemajuan signifikan dalam:\n",
       "\n",
       "* **Pemrosesan Bahasa Alami (NLP):** Memungkinkan mesin untuk memahami dan menghasilkan bahasa manusia\n",
       "* **Penglihatan Komputer:** Memungkinkan mesin untuk \"melihat\" dan memahami gambar dan video\n",
       "* **Jaringan Neural:** Model AI yang terinspirasi oleh otak manusia, mampu belajar dari data kompleks\n",
       "\n",
       "AI dan ML diperkirakan akan memiliki dampak besar pada berbagai industri, termasuk kesehatan, keuangan, transportasi, dan ritel.\n"
      ],
      "text/plain": [
       "<IPython.core.display.Markdown object>"
      ]
     },
     "metadata": {},
     "output_type": "display_data"
    },
    {
     "data": {
      "text/markdown": [
       "**You**: sapa namaku\n"
      ],
      "text/plain": [
       "<IPython.core.display.Markdown object>"
      ]
     },
     "metadata": {},
     "output_type": "display_data"
    },
    {
     "data": {
      "text/markdown": [
       "**Bot**: Nama Anda adalah Gilang.\n",
       "\n",
       "Anda memberi tahu saya nama Anda di awal percakapan:\n",
       "\n",
       "> hi gemini aku **gilang** tolong jelasi ai dan machine learning\n",
       "\n",
       "Saya menyimpan informasi ini dalam memori dan menggunakannya untuk menjawab pertanyaan Anda.\n"
      ],
      "text/plain": [
       "<IPython.core.display.Markdown object>"
      ]
     },
     "metadata": {},
     "output_type": "display_data"
    },
    {
     "data": {
      "text/markdown": [
       "**You**: tolong carikan referensi untuk ai\n"
      ],
      "text/plain": [
       "<IPython.core.display.Markdown object>"
      ]
     },
     "metadata": {},
     "output_type": "display_data"
    },
    {
     "data": {
      "text/markdown": [
       "**Bot**: **Referensi untuk Kecerdasan Buatan (AI)**\n",
       "\n",
       "**Buku:**\n",
       "\n",
       "* **Artificial Intelligence: A Modern Approach** oleh Stuart Russell dan Peter Norvig\n",
       "* **Machine Learning** oleh Tom M. Mitchell\n",
       "* **Deep Learning** oleh Ian Goodfellow, Yoshua Bengio, dan Aaron Courville\n",
       "* **AI Superpowers: China, Silicon Valley, and the New World Order** oleh Kai-Fu Lee\n",
       "* **The AI Revolution: The Road to Superintelligence** oleh Tim Urban\n",
       "\n",
       "**Jurnal dan Prosiding Konferensi:**\n",
       "\n",
       "* **Journal of Artificial Intelligence Research (JAIR)**\n",
       "* **Artificial Intelligence** (jurnal)\n",
       "* **Machine Learning** (jurnal)\n",
       "* **Proceedings of the International Joint Conference on Artificial Intelligence (IJCAI)**\n",
       "* **Proceedings of the Neural Information Processing Systems (NeurIPS)**\n",
       "\n",
       "**Sumber Online:**\n",
       "\n",
       "* **AI Index** oleh Stanford University: https://aiindex.stanford.edu/\n",
       "* **DeepMind** (perusahaan penelitian AI): https://deepmind.com/\n",
       "* **OpenAI** (organisasi penelitian nirlaba AI): https://openai.com/\n",
       "* **Coursera** (platform kursus online): https://www.coursera.org/browse/artificial-intelligence\n",
       "* **edX** (platform kursus online): https://www.edx.org/learn/artificial-intelligence\n",
       "\n",
       "**Artikel Populer:**\n",
       "\n",
       "* **What is Artificial Intelligence?** oleh The Verge: https://www.theverge.com/2018/4/12/17229178/what-is-artificial-intelligence\n",
       "* **A Beginner's Guide to Machine Learning** oleh MIT Technology Review: https://www.technologyreview.com/s/613956/a-beginners-guide-to-machine-learning/\n",
       "* **The Future of AI: 10 Predictions for the Next Decade** oleh Forbes: https://www.forbes.com/sites/cognitiveworld/2023/01/02/the-future-of-ai-10-predictions-for-the-next-decade/?sh=6c908d907e6b\n",
       "\n",
       "**Catatan:**\n",
       "\n",
       "Daftar ini tidak lengkap dan hanya memberikan beberapa sumber daya yang tersedia.\n"
      ],
      "text/plain": [
       "<IPython.core.display.Markdown object>"
      ]
     },
     "metadata": {},
     "output_type": "display_data"
    },
    {
     "name": "stdout",
     "output_type": "stream",
     "text": [
      "\n",
      "Type 'quit', 'exit', or 'bye' to end the chat session.\n"
     ]
    }
   ],
   "source": [
    "# Import required libraries\n",
    "from dotenv import load_dotenv\n",
    "import os\n",
    "import google.generativeai as genai\n",
    "from IPython.display import display, Markdown\n",
    "\n",
    "# Load environment variables\n",
    "load_dotenv()\n",
    "\n",
    "# Configure Gemini API\n",
    "genai.configure(api_key=\"please insert your api key here\")\n",
    "\n",
    "# Initialize chat\n",
    "model = genai.GenerativeModel(\"gemini-pro\")\n",
    "chat = model.start_chat(history=[])\n",
    "chat_history = []\n",
    "\n",
    "def display_chat_history():\n",
    "    \"\"\"Display the chat history in a formatted way\"\"\"\n",
    "    for role, text in chat_history:\n",
    "        display(Markdown(f\"**{role}**: {text}\\n\"))\n",
    "\n",
    "def get_gemini_response(question):\n",
    "    \"\"\"Get response from Gemini model\"\"\"\n",
    "    response = chat.send_message(question)\n",
    "    return response.text\n",
    "\n",
    "# Example usage in Jupyter notebook\n",
    "# Run this cell to interact with the chatbot\n",
    "from IPython.display import clear_output\n",
    "\n",
    "def chat_interface():\n",
    "    while True:\n",
    "        # Get user input\n",
    "        user_input = input(\"You: \")\n",
    "        \n",
    "        if user_input.lower() in ['quit', 'exit', 'bye']:\n",
    "            print(\"\\nEnding chat session...\")\n",
    "            break\n",
    "            \n",
    "        # Get response\n",
    "        response = get_gemini_response(user_input)\n",
    "        \n",
    "        # Update chat history\n",
    "        chat_history.append((\"You\", user_input))\n",
    "        chat_history.append((\"Bot\", response))\n",
    "        \n",
    "        # Clear output and display updated chat\n",
    "        clear_output(wait=True)\n",
    "        print(\"Chat History:\\n\")\n",
    "        display_chat_history()\n",
    "        print(\"\\nType 'quit', 'exit', or 'bye' to end the chat session.\")\n",
    "\n",
    "# Run this cell to start the chat\n",
    "print(\"Starting chat session... Type 'quit', 'exit', or 'bye' to end the session.\")\n",
    "chat_interface()"
   ]
  },
  {
   "cell_type": "code",
   "execution_count": null,
   "id": "c519b445-e7b0-4d2b-ac3f-62975ace9ad9",
   "metadata": {},
   "outputs": [],
   "source": []
  }
 ],
 "metadata": {
  "kernelspec": {
   "display_name": "Python 3 (ipykernel)",
   "language": "python",
   "name": "python3"
  },
  "language_info": {
   "codemirror_mode": {
    "name": "ipython",
    "version": 3
   },
   "file_extension": ".py",
   "mimetype": "text/x-python",
   "name": "python",
   "nbconvert_exporter": "python",
   "pygments_lexer": "ipython3",
   "version": "3.12.7"
  }
 },
 "nbformat": 4,
 "nbformat_minor": 5
}
