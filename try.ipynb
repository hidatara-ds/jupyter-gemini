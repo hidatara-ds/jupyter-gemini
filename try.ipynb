{
 "cells": [
  {
   "cell_type": "code",
   "execution_count": 7,
   "id": "82e1017a-9867-4a8e-9559-0a8477994319",
   "metadata": {},
   "outputs": [
    {
     "name": "stdout",
     "output_type": "stream",
     "text": [
      "Requirement already satisfied: google-genai in d:\\kuliah\\anaconda\\envs\\multimodal20\\lib\\site-packages (0.3.0)\n",
      "Requirement already satisfied: google-auth<3.0.0dev,>=2.14.1 in d:\\kuliah\\anaconda\\envs\\multimodal20\\lib\\site-packages (from google-genai) (2.37.0)\n",
      "Requirement already satisfied: pillow<12.0.0,>=10.0.0 in d:\\kuliah\\anaconda\\envs\\multimodal20\\lib\\site-packages (from google-genai) (11.1.0)\n",
      "Requirement already satisfied: pydantic<3.0.0dev,>=2.0.0 in d:\\kuliah\\anaconda\\envs\\multimodal20\\lib\\site-packages (from google-genai) (2.10.4)\n",
      "Requirement already satisfied: requests<3.0.0dev,>=2.28.1 in d:\\kuliah\\anaconda\\envs\\multimodal20\\lib\\site-packages (from google-genai) (2.32.3)\n",
      "Requirement already satisfied: websockets<15.0dev,>=13.0 in d:\\kuliah\\anaconda\\envs\\multimodal20\\lib\\site-packages (from google-genai) (14.1)\n",
      "Requirement already satisfied: cachetools<6.0,>=2.0.0 in d:\\kuliah\\anaconda\\envs\\multimodal20\\lib\\site-packages (from google-auth<3.0.0dev,>=2.14.1->google-genai) (5.5.0)\n",
      "Requirement already satisfied: pyasn1-modules>=0.2.1 in d:\\kuliah\\anaconda\\envs\\multimodal20\\lib\\site-packages (from google-auth<3.0.0dev,>=2.14.1->google-genai) (0.4.1)\n",
      "Requirement already satisfied: rsa<5,>=3.1.4 in d:\\kuliah\\anaconda\\envs\\multimodal20\\lib\\site-packages (from google-auth<3.0.0dev,>=2.14.1->google-genai) (4.9)\n",
      "Requirement already satisfied: annotated-types>=0.6.0 in d:\\kuliah\\anaconda\\envs\\multimodal20\\lib\\site-packages (from pydantic<3.0.0dev,>=2.0.0->google-genai) (0.7.0)\n",
      "Requirement already satisfied: pydantic-core==2.27.2 in d:\\kuliah\\anaconda\\envs\\multimodal20\\lib\\site-packages (from pydantic<3.0.0dev,>=2.0.0->google-genai) (2.27.2)\n",
      "Requirement already satisfied: typing-extensions>=4.12.2 in d:\\kuliah\\anaconda\\envs\\multimodal20\\lib\\site-packages (from pydantic<3.0.0dev,>=2.0.0->google-genai) (4.12.2)\n",
      "Requirement already satisfied: charset-normalizer<4,>=2 in d:\\kuliah\\anaconda\\envs\\multimodal20\\lib\\site-packages (from requests<3.0.0dev,>=2.28.1->google-genai) (3.4.1)\n",
      "Requirement already satisfied: idna<4,>=2.5 in d:\\kuliah\\anaconda\\envs\\multimodal20\\lib\\site-packages (from requests<3.0.0dev,>=2.28.1->google-genai) (3.10)\n",
      "Requirement already satisfied: urllib3<3,>=1.21.1 in d:\\kuliah\\anaconda\\envs\\multimodal20\\lib\\site-packages (from requests<3.0.0dev,>=2.28.1->google-genai) (2.3.0)\n",
      "Requirement already satisfied: certifi>=2017.4.17 in d:\\kuliah\\anaconda\\envs\\multimodal20\\lib\\site-packages (from requests<3.0.0dev,>=2.28.1->google-genai) (2024.12.14)\n",
      "Requirement already satisfied: pyasn1<0.7.0,>=0.4.6 in d:\\kuliah\\anaconda\\envs\\multimodal20\\lib\\site-packages (from pyasn1-modules>=0.2.1->google-auth<3.0.0dev,>=2.14.1->google-genai) (0.6.1)\n"
     ]
    }
   ],
   "source": [
    "!pip3 install google-genai"
   ]
  },
  {
   "cell_type": "code",
   "execution_count": 8,
   "id": "b9f13489-e64e-4da9-acaa-a1eecbd515a6",
   "metadata": {},
   "outputs": [],
   "source": [
    "from google import genai"
   ]
  },
  {
   "cell_type": "code",
   "execution_count": 18,
   "id": "bf6a100f-9879-46f3-ac9c-44dbc8b73be5",
   "metadata": {},
   "outputs": [
    {
     "name": "stdout",
     "output_type": "stream",
     "text": [
      "GOOGLE_CLOUD_PROJECT: YOUR_CLOUD_PROJECT\n",
      "GOOGLE_CLOUD_LOCATION: us-central1\n",
      "GOOGLE_GENAI_USE_VERTEXAI: True\n"
     ]
    }
   ],
   "source": [
    "import os\n",
    "\n",
    "# Set environment variables\n",
    "os.environ[\"GOOGLE_CLOUD_PROJECT\"] = \"YOUR_CLOUD_PROJECT\"\n",
    "os.environ[\"GOOGLE_CLOUD_LOCATION\"] = \"us-central1\"\n",
    "os.environ[\"GOOGLE_GENAI_USE_VERTEXAI\"] = \"True\"\n",
    "\n",
    "# Verify the environment variables\n",
    "print(\"GOOGLE_CLOUD_PROJECT:\", os.environ.get(\"GOOGLE_CLOUD_PROJECT\"))\n",
    "print(\"GOOGLE_CLOUD_LOCATION:\", os.environ.get(\"GOOGLE_CLOUD_LOCATION\"))\n",
    "print(\"GOOGLE_GENAI_USE_VERTEXAI:\", os.environ.get(\"GOOGLE_GENAI_USE_VERTEXAI\"))\n"
   ]
  },
  {
   "cell_type": "code",
   "execution_count": 19,
   "id": "f685d3c6-a062-447a-b4ab-48a64f436108",
   "metadata": {},
   "outputs": [
    {
     "name": "stderr",
     "output_type": "stream",
     "text": [
      "'export' is not recognized as an internal or external command,\n",
      "operable program or batch file.\n",
      "'export' is not recognized as an internal or external command,\n",
      "operable program or batch file.\n",
      "'export' is not recognized as an internal or external command,\n",
      "operable program or batch file.\n"
     ]
    },
    {
     "name": "stdout",
     "output_type": "stream",
     "text": [
      "$GOOGLE_CLOUD_PROJECT\n",
      "$GOOGLE_CLOUD_LOCATION\n",
      "$GOOGLE_GENAI_USE_VERTEXAI\n"
     ]
    }
   ],
   "source": [
    "# Set environment variables in the shell\n",
    "!export GOOGLE_CLOUD_PROJECT=YOUR_CLOUD_PROJECT\n",
    "!export GOOGLE_CLOUD_LOCATION=us-central1\n",
    "!export GOOGLE_GENAI_USE_VERTEXAI=True\n",
    "\n",
    "# Verify\n",
    "!echo $GOOGLE_CLOUD_PROJECT\n",
    "!echo $GOOGLE_CLOUD_LOCATION\n",
    "!echo $GOOGLE_GENAI_USE_VERTEXAI\n"
   ]
  },
  {
   "cell_type": "code",
   "execution_count": 15,
   "id": "30ec82dc-51af-4156-8e7e-334ef793ce64",
   "metadata": {},
   "outputs": [
    {
     "name": "stdout",
     "output_type": "stream",
     "text": [
      "Collecting python-dotenv\n",
      "  Downloading python_dotenv-1.0.1-py3-none-any.whl.metadata (23 kB)\n",
      "Downloading python_dotenv-1.0.1-py3-none-any.whl (19 kB)\n",
      "Installing collected packages: python-dotenv\n",
      "Successfully installed python-dotenv-1.0.1\n"
     ]
    }
   ],
   "source": [
    "!pip install python-dotenv\n"
   ]
  },
  {
   "cell_type": "code",
   "execution_count": 17,
   "id": "4003acb7-6de2-4354-869f-fead0abae117",
   "metadata": {},
   "outputs": [
    {
     "name": "stdout",
     "output_type": "stream",
     "text": [
      "GOOGLE_CLOUD_PROJECT: YOUR_CLOUD_PROJECT\n",
      "GOOGLE_CLOUD_LOCATION: us-central1\n",
      "GOOGLE_GENAI_USE_VERTEXAI: True\n"
     ]
    }
   ],
   "source": [
    "from dotenv import load_dotenv\n",
    "\n",
    "# Load .env file\n",
    "load_dotenv()\n",
    "\n",
    "# Verify environment variables\n",
    "print(\"GOOGLE_CLOUD_PROJECT:\", os.getenv(\"GOOGLE_CLOUD_PROJECT\"))\n",
    "print(\"GOOGLE_CLOUD_LOCATION:\", os.getenv(\"GOOGLE_CLOUD_LOCATION\"))\n",
    "print(\"GOOGLE_GENAI_USE_VERTEXAI:\", os.getenv(\"GOOGLE_GENAI_USE_VERTEXAI\"))\n"
   ]
  },
  {
   "cell_type": "code",
   "execution_count": 20,
   "id": "20bb44d4-a07a-4e9f-827f-8ef340558847",
   "metadata": {},
   "outputs": [
    {
     "ename": "DefaultCredentialsError",
     "evalue": "Your default credentials were not found. To set up Application Default Credentials, see https://cloud.google.com/docs/authentication/external/set-up-adc for more information.",
     "output_type": "error",
     "traceback": [
      "\u001b[1;31m---------------------------------------------------------------------------\u001b[0m",
      "\u001b[1;31mDefaultCredentialsError\u001b[0m                   Traceback (most recent call last)",
      "Cell \u001b[1;32mIn[20], line 5\u001b[0m\n\u001b[0;32m      2\u001b[0m model_id \u001b[38;5;241m=\u001b[39m \u001b[38;5;124m\"\u001b[39m\u001b[38;5;124mgemini-2.0-flash-exp\u001b[39m\u001b[38;5;124m\"\u001b[39m\n\u001b[0;32m      3\u001b[0m config \u001b[38;5;241m=\u001b[39m {\u001b[38;5;124m\"\u001b[39m\u001b[38;5;124mresponse_modalities\u001b[39m\u001b[38;5;124m\"\u001b[39m: [\u001b[38;5;124m\"\u001b[39m\u001b[38;5;124mTEXT\u001b[39m\u001b[38;5;124m\"\u001b[39m]}\n\u001b[1;32m----> 5\u001b[0m \u001b[38;5;28;01masync\u001b[39;00m \u001b[38;5;28;01mwith\u001b[39;00m client\u001b[38;5;241m.\u001b[39maio\u001b[38;5;241m.\u001b[39mlive\u001b[38;5;241m.\u001b[39mconnect(model\u001b[38;5;241m=\u001b[39mmodel_id, config\u001b[38;5;241m=\u001b[39mconfig) \u001b[38;5;28;01mas\u001b[39;00m session:\n\u001b[0;32m      6\u001b[0m     message \u001b[38;5;241m=\u001b[39m \u001b[38;5;124m\"\u001b[39m\u001b[38;5;124mHello? Gemini, are you there?\u001b[39m\u001b[38;5;124m\"\u001b[39m\n\u001b[0;32m      7\u001b[0m     \u001b[38;5;28mprint\u001b[39m(\u001b[38;5;124m\"\u001b[39m\u001b[38;5;124m> \u001b[39m\u001b[38;5;124m\"\u001b[39m, message, \u001b[38;5;124m\"\u001b[39m\u001b[38;5;130;01m\\n\u001b[39;00m\u001b[38;5;124m\"\u001b[39m)\n",
      "File \u001b[1;32mD:\\Kuliah\\Anaconda\\envs\\Multimodal20\\Lib\\contextlib.py:214\u001b[0m, in \u001b[0;36m_AsyncGeneratorContextManager.__aenter__\u001b[1;34m(self)\u001b[0m\n\u001b[0;32m    212\u001b[0m \u001b[38;5;28;01mdel\u001b[39;00m \u001b[38;5;28mself\u001b[39m\u001b[38;5;241m.\u001b[39margs, \u001b[38;5;28mself\u001b[39m\u001b[38;5;241m.\u001b[39mkwds, \u001b[38;5;28mself\u001b[39m\u001b[38;5;241m.\u001b[39mfunc\n\u001b[0;32m    213\u001b[0m \u001b[38;5;28;01mtry\u001b[39;00m:\n\u001b[1;32m--> 214\u001b[0m     \u001b[38;5;28;01mreturn\u001b[39;00m \u001b[38;5;28;01mawait\u001b[39;00m anext(\u001b[38;5;28mself\u001b[39m\u001b[38;5;241m.\u001b[39mgen)\n\u001b[0;32m    215\u001b[0m \u001b[38;5;28;01mexcept\u001b[39;00m \u001b[38;5;167;01mStopAsyncIteration\u001b[39;00m:\n\u001b[0;32m    216\u001b[0m     \u001b[38;5;28;01mraise\u001b[39;00m \u001b[38;5;167;01mRuntimeError\u001b[39;00m(\u001b[38;5;124m\"\u001b[39m\u001b[38;5;124mgenerator didn\u001b[39m\u001b[38;5;124m'\u001b[39m\u001b[38;5;124mt yield\u001b[39m\u001b[38;5;124m\"\u001b[39m) \u001b[38;5;28;01mfrom\u001b[39;00m\u001b[38;5;250m \u001b[39m\u001b[38;5;28;01mNone\u001b[39;00m\n",
      "File \u001b[1;32mD:\\Kuliah\\Anaconda\\envs\\Multimodal20\\Lib\\site-packages\\google\\genai\\live.py:630\u001b[0m, in \u001b[0;36mAsyncLive.connect\u001b[1;34m(self, model, config)\u001b[0m\n\u001b[0;32m    625\u001b[0m   request \u001b[38;5;241m=\u001b[39m json\u001b[38;5;241m.\u001b[39mdumps(\n\u001b[0;32m    626\u001b[0m       \u001b[38;5;28mself\u001b[39m\u001b[38;5;241m.\u001b[39m_LiveSetup_to_mldev(model\u001b[38;5;241m=\u001b[39mtransformed_model, config\u001b[38;5;241m=\u001b[39mconfig)\n\u001b[0;32m    627\u001b[0m   )\n\u001b[0;32m    628\u001b[0m \u001b[38;5;28;01melse\u001b[39;00m:\n\u001b[0;32m    629\u001b[0m   \u001b[38;5;66;03m# Get bearer token through Application Default Credentials.\u001b[39;00m\n\u001b[1;32m--> 630\u001b[0m   creds, _ \u001b[38;5;241m=\u001b[39m \u001b[43mgoogle\u001b[49m\u001b[38;5;241;43m.\u001b[39;49m\u001b[43mauth\u001b[49m\u001b[38;5;241;43m.\u001b[39;49m\u001b[43mdefault\u001b[49m\u001b[43m(\u001b[49m\n\u001b[0;32m    631\u001b[0m \u001b[43m      \u001b[49m\u001b[43mscopes\u001b[49m\u001b[38;5;241;43m=\u001b[39;49m\u001b[43m[\u001b[49m\u001b[38;5;124;43m'\u001b[39;49m\u001b[38;5;124;43mhttps://www.googleapis.com/auth/cloud-platform\u001b[39;49m\u001b[38;5;124;43m'\u001b[39;49m\u001b[43m]\u001b[49m\n\u001b[0;32m    632\u001b[0m \u001b[43m  \u001b[49m\u001b[43m)\u001b[49m\n\u001b[0;32m    634\u001b[0m   \u001b[38;5;66;03m# creds.valid is False, and creds.token is None\u001b[39;00m\n\u001b[0;32m    635\u001b[0m   \u001b[38;5;66;03m# Need to refresh credentials to populate those\u001b[39;00m\n\u001b[0;32m    636\u001b[0m   auth_req \u001b[38;5;241m=\u001b[39m google\u001b[38;5;241m.\u001b[39mauth\u001b[38;5;241m.\u001b[39mtransport\u001b[38;5;241m.\u001b[39mrequests\u001b[38;5;241m.\u001b[39mRequest()\n",
      "File \u001b[1;32mD:\\Kuliah\\Anaconda\\envs\\Multimodal20\\Lib\\site-packages\\google\\auth\\_default.py:697\u001b[0m, in \u001b[0;36mdefault\u001b[1;34m(scopes, request, quota_project_id, default_scopes)\u001b[0m\n\u001b[0;32m    689\u001b[0m             _LOGGER\u001b[38;5;241m.\u001b[39mwarning(\n\u001b[0;32m    690\u001b[0m                 \u001b[38;5;124m\"\u001b[39m\u001b[38;5;124mNo project ID could be determined. Consider running \u001b[39m\u001b[38;5;124m\"\u001b[39m\n\u001b[0;32m    691\u001b[0m                 \u001b[38;5;124m\"\u001b[39m\u001b[38;5;124m`gcloud config set project` or setting the \u001b[39m\u001b[38;5;132;01m%s\u001b[39;00m\u001b[38;5;124m \u001b[39m\u001b[38;5;124m\"\u001b[39m\n\u001b[0;32m    692\u001b[0m                 \u001b[38;5;124m\"\u001b[39m\u001b[38;5;124menvironment variable\u001b[39m\u001b[38;5;124m\"\u001b[39m,\n\u001b[0;32m    693\u001b[0m                 environment_vars\u001b[38;5;241m.\u001b[39mPROJECT,\n\u001b[0;32m    694\u001b[0m             )\n\u001b[0;32m    695\u001b[0m         \u001b[38;5;28;01mreturn\u001b[39;00m credentials, effective_project_id\n\u001b[1;32m--> 697\u001b[0m \u001b[38;5;28;01mraise\u001b[39;00m exceptions\u001b[38;5;241m.\u001b[39mDefaultCredentialsError(_CLOUD_SDK_MISSING_CREDENTIALS)\n",
      "\u001b[1;31mDefaultCredentialsError\u001b[0m: Your default credentials were not found. To set up Application Default Credentials, see https://cloud.google.com/docs/authentication/external/set-up-adc for more information."
     ]
    }
   ],
   "source": [
    "client = genai.Client()\n",
    "model_id = \"gemini-2.0-flash-exp\"\n",
    "config = {\"response_modalities\": [\"TEXT\"]}\n",
    "\n",
    "async with client.aio.live.connect(model=model_id, config=config) as session:\n",
    "    message = \"Hello? Gemini, are you there?\"\n",
    "    print(\"> \", message, \"\\n\")\n",
    "    await session.send(message, end_of_turn=True)\n",
    "\n",
    "    async for response in session.receive():\n",
    "        print(response.text)"
   ]
  },
  {
   "cell_type": "code",
   "execution_count": null,
   "id": "53428d07-459b-45ce-a40b-3ed1d965ae8e",
   "metadata": {},
   "outputs": [],
   "source": []
  }
 ],
 "metadata": {
  "kernelspec": {
   "display_name": "Python 3 (ipykernel)",
   "language": "python",
   "name": "python3"
  },
  "language_info": {
   "codemirror_mode": {
    "name": "ipython",
    "version": 3
   },
   "file_extension": ".py",
   "mimetype": "text/x-python",
   "name": "python",
   "nbconvert_exporter": "python",
   "pygments_lexer": "ipython3",
   "version": "3.13.1"
  }
 },
 "nbformat": 4,
 "nbformat_minor": 5
}
